{
 "cells": [
  {
   "cell_type": "code",
   "execution_count": 2,
   "metadata": {
    "_cell_guid": "8dd86c24-002e-4547-a541-cdfaee9cef66",
    "_uuid": "ddeb3b088ab9fabd9f25dbab403b683e4c2c47b7",
    "collapsed": true
   },
   "outputs": [],
   "source": [
    "from collections import OrderedDict\n",
    "\n",
    "import numpy as np\n",
    "import pandas as pd\n",
    "\n",
    "import matplotlib.pyplot as plt\n",
    "from matplotlib.rcsetup import cycler\n",
    "from matplotlib import lines as mlines"
   ]
  },
  {
   "cell_type": "code",
   "execution_count": 26,
   "metadata": {
    "_cell_guid": "c0cb4f17-8bb6-403d-97fa-7fa077545d09",
    "_uuid": "4442c66d42de76ecdac0d08b139c3f826d5df792",
    "collapsed": true
   },
   "outputs": [],
   "source": [
    "plt.rcParams['lines.linewidth'] = 1.5\n",
    "plt.rcParams['lines.color'] = '0.2'\n",
    "plt.rcParams['font.size'] = 12\n",
    "plt.rcParams['text.color'] = '0.2'\n",
    "plt.rcParams['axes.titlesize'] = 20\n",
    "plt.rcParams['axes.labelsize'] = 16\n",
    "plt.rcParams['axes.labelcolor'] = '0.2'\n",
    "plt.rcParams['axes.prop_cycle'] = cycler('color', ['4b78ca', '467c5a', '7b003d', 'e1883b', 'd9231d', 'eed180', 'd34389', '91b372', 'e7b8cf'])\n",
    "plt.rcParams['xtick.color'] = '0.2'\n",
    "plt.rcParams['xtick.labelsize'] = 12\n",
    "plt.rcParams['ytick.color'] = '0.2'\n",
    "plt.rcParams['ytick.labelsize'] = 12\n",
    "plt.rcParams['legend.fontsize'] = 16\n",
    "plt.rcParams['legend.handletextpad'] = 0.4\n",
    "plt.rcParams['legend.handlelength'] = 1.5\n",
    "plt.rcParams['figure.figsize'] = (10.21, 5.71)\n",
    "plt.rcParams['figure.titlesize'] = 20\n",
    "plt.rcParams['savefig.dpi'] = 125\n"
   ]
  },
  {
   "cell_type": "code",
   "execution_count": 4,
   "metadata": {
    "_cell_guid": "244d8d9d-792c-4888-aff8-eb5d5fc74d4a",
    "_uuid": "f9ed27915c4da214b4b4fae9c1bafbd6cc1b9f6d",
    "collapsed": true
   },
   "outputs": [],
   "source": [
    "m2km = 1.60934"
   ]
  },
  {
   "cell_type": "code",
   "execution_count": 11,
   "metadata": {
    "_cell_guid": "0bc9f32a-9f65-4d34-b56e-d5ab0932b69a",
    "_uuid": "4ceeb44dbf7a5500f5b988e87c51064b00ce770f",
    "collapsed": false
   },
   "outputs": [],
   "source": [
    "austin = pd.read_csv(\"E:\\\\Assignment1\\\\manik\\\\Weather-IFY-ML-Project-\\\\austin_weather.csv\")\n",
    "delhi = pd.read_csv('E:\\\\Assignment1\\\\manik\\\\Weather-IFY-ML-Project-\\\\testset.csv')\n",
    "madrid = pd.read_csv('E:\\\\Assignment1\\\\manik\\\\Weather-IFY-ML-Project-\\\\weather_madrid_LEMD_1997_2015.csv')\n",
    "szeged = pd.read_csv('E:\\\\Assignment1\\\\manik\\\\Weather-IFY-ML-Project-\\\\weatherHistory.csv')\n",
    "\n",
    "delhi['date'] = pd.DatetimeIndex(delhi['datetime_utc']).date\n",
    "delhiGrp = delhi.groupby('date')\n",
    "\n",
    "szeged['date'] = pd.DatetimeIndex(szeged['Formatted Date']).date\n",
    "szegedGrp = szeged.groupby('date')\n",
    "\n",
    "rainMsgs = ['Light Rain', 'Drizzle', 'Rain']\n",
    "szeged['Rain'] = szeged['Summary'].map(lambda msg: any([msg == rainMsg for rainMsg in rainMsgs]))"
   ]
  },
  {
   "cell_type": "code",
   "execution_count": 12,
   "metadata": {
    "_cell_guid": "82731b4a-27be-4343-a9a0-bd1e8eed01c7",
    "_uuid": "87e9f020ae3e300b44c6467b85a573fcce749b88",
    "collapsed": true
   },
   "outputs": [],
   "source": [
    "windSpd = {'austin': austin.loc[austin['WindAvgMPH'] != '-', 'WindAvgMPH'].astype(np.float) * m2km,\n",
    "          'delhi': delhiGrp[' _wspdm'].mean(),\n",
    "          'madrid': madrid[' Mean Wind SpeedKm/h'],\n",
    "          'szeged': szegedGrp['Wind Speed (km/h)'].mean()}\n",
    "rain = {'austin': austin.loc[austin['PrecipitationSumInches'] != 'T', 'PrecipitationSumInches'].astype(np.float) > 0,\n",
    "       'delhi': delhiGrp[' _rain'].any(),\n",
    "       'madrid': madrid['Precipitationmm'] > 0,\n",
    "       'szeged': szegedGrp['Rain'].agg(any)}\n",
    "temp = {'austin': (austin['TempHighF'] - 32) * 5 / 9,\n",
    "       'delhi': delhiGrp[' _tempm'].max(),\n",
    "       'madrid': madrid['Max TemperatureC'],\n",
    "       'szeged': szegedGrp['Temperature (C)'].max()}\n",
    "vis = {'austin': austin.loc[austin['VisibilityHighMiles'] != '-', 'VisibilityHighMiles'].astype(np.float) * m2km,\n",
    "      'delhi': delhiGrp[' _vism'].max(),\n",
    "      'madrid': madrid[' Max VisibilityKm'],\n",
    "      'szeged': szegedGrp['Visibility (km)'].max()}"
   ]
  },
  {
   "cell_type": "code",
   "execution_count": 27,
   "metadata": {
    "_cell_guid": "972f3fb0-3fa2-46b1-abcd-0b328b4abe64",
    "_uuid": "66ba52c164b1c75af4d255b472cd5ef0ef548513",
    "collapsed": false
   },
   "outputs": [
    {
     "data": {
      "text/plain": [
       "<matplotlib.text.Text at 0x18739ba8>"
      ]
     },
     "execution_count": 27,
     "metadata": {},
     "output_type": "execute_result"
    }
   ],
   "source": [
    "fig = plt.figure()\n",
    "ax = fig.add_subplot(1, 1, 1)\n",
    "\n",
    "for key in windSpd.keys():\n",
    "    ax.hist(windSpd[key], normed=True, histtype='step', label=key, range=(0,30), lw=1.5)\n",
    "    \n",
    "ax.legend()\n",
    "ax.set_xlabel('Maximum Daily Wind Speed (kph)')\n",
    "ax.set_ylabel('Frequency')"
   ]
  },
  {
   "cell_type": "code",
   "execution_count": 28,
   "metadata": {
    "_cell_guid": "a11f270d-aa55-4a0d-bc39-d13e0ed9cc95",
    "_uuid": "4b7a70657ab4736dabe824d585d79f9818c0614c",
    "collapsed": false
   },
   "outputs": [
    {
     "data": {
      "text/plain": [
       "<matplotlib.text.Text at 0x18951c18>"
      ]
     },
     "execution_count": 28,
     "metadata": {},
     "output_type": "execute_result"
    }
   ],
   "source": [
    "fig = plt.figure(figsize=(10, 12))\n",
    "ax1 = fig.add_subplot(3, 1, 1)\n",
    "ax2 = fig.add_subplot(3, 1, 2)\n",
    "ax3 = fig.add_subplot(3, 1, 3)\n",
    "\n",
    "x = [1, 2, 3, 4]\n",
    "\n",
    "cities = [key for key in rain.keys()]\n",
    "y1 = [(1 - rain[city].sum() / rain[city].shape[0]) * 100 for city in cities]\n",
    "y2 = [((temp[city] * 9 / 5 + 32) < 95).sum() / temp[city].shape[0] * 100 for city in cities]\n",
    "y3 = [vis[city].mean() for city in cities]\n",
    "\n",
    "ax1.bar(x, y1)\n",
    "ax2.bar(x, y2)\n",
    "ax3.bar(x, y3)\n",
    "\n",
    "ax1.set_ylabel('Dry Days (%)')\n",
    "#error will be resolverd later\n",
    "#ax2.set_ylabel('Days > 95° F (%)')\n",
    "ax3.set_ylabel('Mean Daily Max Visibility (km)')\n",
    "\n",
    "ax1.set_xticks([])\n",
    "ax2.set_xticks([])\n",
    "ax3.set_xticks(x)\n",
    "ax3.set_xticklabels(cities)\n",
    "\n",
    "ax1.set_title('Other Factors')"
   ]
  },
  {
   "cell_type": "code",
   "execution_count": null,
   "metadata": {
    "collapsed": true
   },
   "outputs": [],
   "source": []
  },
  {
   "cell_type": "code",
   "execution_count": 15,
   "metadata": {
    "_cell_guid": "4b0e94bd-6479-4d4f-923c-c0b7252e28ac",
    "_uuid": "2922feee67a096c519a8284781f7829ac80fe274",
    "collapsed": true
   },
   "outputs": [],
   "source": [
    "def avWindDir(windDir, windSpd):\n",
    "    x = (np.cos(windDir / 360 * 2 * np.pi) * windSpd).sum()\n",
    "    y = (np.sin(windDir / 360 * 2 * np.pi) * windSpd).sum()\n",
    "    return np.arctan2(y, x) * 360 / (2 * np.pi) % 360\n",
    "\n",
    "\n",
    "windDir = {'delhi': delhiGrp.agg(lambda x: avWindDir(x[' _wdird'], x[' _wspdm'])).iloc[:, 0].rename('windDir'),\n",
    "          'madrid': madrid['WindDirDegrees'],\n",
    "          'szeged': szegedGrp.agg(lambda x: avWindDir(x['Wind Bearing (degrees)'], x['Wind Speed (km/h)'])).iloc[:, 0].rename('windDir')}"
   ]
  },
  {
   "cell_type": "code",
   "execution_count": 29,
   "metadata": {
    "_cell_guid": "ba2854d3-74ac-45e6-ae74-b41636c2f54a",
    "_uuid": "9e902c756c3df7249220291271fad130197b754e",
    "collapsed": false
   },
   "outputs": [
    {
     "data": {
      "text/plain": [
       "<matplotlib.text.Text at 0x18bc0978>"
      ]
     },
     "execution_count": 29,
     "metadata": {},
     "output_type": "execute_result"
    }
   ],
   "source": [
    "fig = plt.figure()\n",
    "ax = fig.add_subplot(1, 1, 1)\n",
    "\n",
    "for key in windDir.keys():\n",
    "    ax.hist(windDir[key], normed=True, bins=12, histtype='step', label=key, range=(0,360), lw=1.5)\n",
    "    \n",
    "ax.legend(loc='upper left')\n",
    "ax.set_xticks(np.arange(0,360, 60))\n",
    "ax.set_xlabel('Daily Average Wind Direction (degrees)')\n",
    "ax.set_ylabel('Frequency')"
   ]
  },
  {
   "cell_type": "code",
   "execution_count": 17,
   "metadata": {
    "_cell_guid": "4f485055-d934-4407-89eb-79e442efac11",
    "_uuid": "e0c2833ae5d184bffc41ec1cf0391968186a9810",
    "collapsed": false
   },
   "outputs": [
    {
     "name": "stdout",
     "output_type": "stream",
     "text": [
      "     city  angle  goodDays  windyDays\n",
      "0  madrid     35         0          0\n",
      "1   delhi    105         0          0\n",
      "2  szeged    160         0          0\n"
     ]
    }
   ],
   "source": [
    "angleTol = 45\n",
    "spdTol = 10\n",
    "\n",
    "testDirs = np.arange(0, 180, 5).reshape(-1, 1)\n",
    "cities = []\n",
    "windyDays = []\n",
    "goodDays = []\n",
    "angles = []\n",
    "\n",
    "for city in windDir.keys():\n",
    "    cities.append(city)\n",
    "    dirs = windDir[city].values\n",
    "    spds = windSpd[city].values\n",
    "    windyDirs = dirs[spds > spdTol]\n",
    "    windyDays.append(windyDirs.size / dirs.size * 100)\n",
    "    angleDiffs = (windyDirs - testDirs) % 180\n",
    "    goodWindyDays = ((angleDiffs < angleTol) | (angleDiffs > (180 - angleTol))).sum(1)\n",
    "    bestInd = np.argmax(goodWindyDays)\n",
    "    angles.append(testDirs[bestInd, 0])\n",
    "    goodDays.append((dirs.size - windyDirs.size + goodWindyDays[bestInd]) / dirs.size * 100)\n",
    "\n",
    "results = pd.DataFrame(OrderedDict(city=cities,\n",
    "                                   windyDays=windyDays,\n",
    "                                   goodDays=goodDays,\n",
    "                                   angle=angles))\n",
    "print(results)"
   ]
  },
  {
   "cell_type": "code",
   "execution_count": 18,
   "metadata": {
    "_cell_guid": "f9a2cc61-792a-4db0-bb66-25b1221fdd59",
    "_uuid": "15f63e12c364903a92df163abbda8b19523ad9ff",
    "collapsed": true
   },
   "outputs": [],
   "source": [
    "angleTols, spdTols = np.meshgrid(np.linspace(5, 45), np.linspace(5, 25))\n",
    "\n",
    "def goodDays(angleTol, spdTol, city):\n",
    "    dirs = windDir[city].values\n",
    "    spds = windSpd[city].values\n",
    "    windyDirs = dirs[spds > spdTol]\n",
    "    angleDiffs = (windyDirs - testDirs) % 180\n",
    "    goodWindyDays = ((angleDiffs < angleTol) | (angleDiffs > (180 - angleTol))).sum(1)\n",
    "    return (dirs.size - windyDirs.size + np.max(goodWindyDays)) / dirs.size * 100\n",
    "\n",
    "sensitivities = {}\n",
    "for city in windDir.keys():\n",
    "    sens = np.zeros(angleTols.shape)\n",
    "    for i in range(angleTols.shape[0]):\n",
    "        for j in range(angleTols.shape[1]):\n",
    "            sens[i, j] = goodDays(angleTols[i, j], spdTols[i, j], city)\n",
    "    sensitivities[city] = sens"
   ]
  },
  {
   "cell_type": "code",
   "execution_count": 19,
   "metadata": {
    "_cell_guid": "48656ced-d756-43d1-a0c3-83ef3d8eb9c6",
    "_uuid": "2ad39ee4671664ff6e85dfeee707a379d952ac4b",
    "collapsed": true
   },
   "outputs": [],
   "source": [
    "def addText(ax, text, loc='best', **kwargs):\n",
    "    '''Doc String'''\n",
    "\n",
    "    if 'right' in loc:\n",
    "        markerfirst = False\n",
    "    else:\n",
    "        markerfirst = True\n",
    "\n",
    "    handles = [mlines.Line2D([], [], alpha=0.0)] * len(text)\n",
    "    ax.legend(handles=handles, labels=text, loc=loc, frameon=False,\n",
    "              handlelength=0, handletextpad=0, markerfirst=markerfirst,\n",
    "              **kwargs)\n",
    "    return"
   ]
  },
  {
   "cell_type": "code",
   "execution_count": 20,
   "metadata": {
    "_cell_guid": "0795b483-fd55-456b-aec2-42e8bb1bb560",
    "_uuid": "f251fd134e3f93ebfb91e14af80c66e1a1c2ca72",
    "collapsed": true
   },
   "outputs": [],
   "source": [
    "fig = plt.figure()\n",
    "cmap = plt.get_cmap('plasma')\n",
    "levels = np.linspace(0, 100, 1000)\n",
    "cLevels = np.array([40, 60, 80, 90, 95])\n",
    "formatter = {l: '{:2.0f}%'.format(l) for l in cLevels}\n",
    "axs = []\n",
    "\n",
    "for i, city in enumerate(windDir.keys()):\n",
    "    ax = fig.add_subplot(3, 1, i + 1)\n",
    "    ax.contourf(angleTols, spdTols, sensitivities[city], levels=levels, cmap=cmap)\n",
    "    cs = ax.contour(angleTols, spdTols, sensitivities[city], levels=cLevels,\n",
    "                colors='w', linewidths=1, linestyles='dashed')\n",
    "    ax.clabel(cs, fmt=formatter)\n",
    "    addText(ax, [city], loc='upper right')\n",
    "    \n",
    "    axs.append(ax)\n",
    "\n",
    "ax.set_xlabel('Angle Tolerance (degrees)')\n",
    "axs[1].set_ylabel('Windspeed Threshold (kph)')\n",
    "\n",
    "sm = plt.cm.ScalarMappable(cmap=cmap)\n",
    "sm.set_array(levels)\n",
    "cb = fig.colorbar(sm, ax=axs, orientation='vertical')\n",
    "cb.set_label('Fraction of Flyable Days (%)')"
   ]
  },
  {
   "cell_type": "code",
   "execution_count": 30,
   "metadata": {
    "collapsed": true
   },
   "outputs": [],
   "source": [
    "plt.show()"
   ]
  },
  {
   "cell_type": "code",
   "execution_count": null,
   "metadata": {
    "collapsed": true
   },
   "outputs": [],
   "source": []
  }
 ],
 "metadata": {
  "kernelspec": {
   "display_name": "Python 2",
   "language": "python",
   "name": "python2"
  },
  "language_info": {
   "codemirror_mode": {
    "name": "ipython",
    "version": 2
   },
   "file_extension": ".py",
   "mimetype": "text/x-python",
   "name": "python",
   "nbconvert_exporter": "python",
   "pygments_lexer": "ipython2",
   "version": "2.7.11"
  }
 },
 "nbformat": 4,
 "nbformat_minor": 1
}
