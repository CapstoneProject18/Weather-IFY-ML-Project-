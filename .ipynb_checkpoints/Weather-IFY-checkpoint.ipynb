{
  "cells": [
    {
      "metadata": {
        "_uuid": "1058643fe56aa06844486ebde17f1831b5c55756",
        "_cell_guid": "b02abd04-10d2-4e98-9650-86c11142fa86"
      },
      "cell_type": "markdown",
      "source": "# Filtering and Auto-Correlation Tutorial with Temperature Data\nIn this scipt we will perform basic filtering operations using pandas (low pass and high pass filtering) and also examine the auto-correlation structure of temperature data (taken from the [Historical Hourly Weather Dataset](https://www.kaggle.com/selfishgene/historical-hourly-weather-data)) also using pandas.\n\nThe main goal of the script is to give some intuition about what low pass and high pass filtering operations are, and understand what is the auto-correlation function. We use hourly sampled temperature data since it contains periodic structrue both on a daily basis and on a yearly basis."
    },
    {
      "metadata": {
        "collapsed": true,
        "_uuid": "67b7bbc1e938d5ce4459a0a43cabbd6e91018157",
        "_cell_guid": "b6c2267d-adac-4981-a065-65a7af1c0aea",
        "trusted": false
      },
      "cell_type": "code",
      "source": "import numpy as np\nimport pandas as pd\nfrom pandas.plotting import autocorrelation_plot, lag_plot\nimport matplotlib.pyplot as plt\nimport matplotlib.gridspec as gridspec",
      "execution_count": null,
      "outputs": []
    },
    {
      "metadata": {
        "_uuid": "c5506fe463ad5fe3c8347e89f527ac9e1841615d",
        "_cell_guid": "79e73e1a-086b-4342-b6a1-fee221aad271"
      },
      "cell_type": "markdown",
      "source": "# Load Data and Show available Cities in the dataset"
    },
    {
      "metadata": {
        "_uuid": "74cccf100be2c9b848e54eb912a416653d7198db",
        "_cell_guid": "969e3c23-1db5-493c-a95f-828e6149f0e8",
        "trusted": false
      },
      "cell_type": "code",
      "source": "#%% load data that will be used in the script\ncityTable     = pd.read_csv('../input/city_attributes.csv')\ntemperatureDF = pd.read_csv('../input/temperature.csv', index_col=0)\ntemperatureDF.index = pd.to_datetime(temperatureDF.index)\n\ncityTable",
      "execution_count": null,
      "outputs": []
    },
    {
      "metadata": {
        "_uuid": "4c0928323075c7d58fa8c4841f1c2db7a6730693",
        "_cell_guid": "0280c8f3-3eee-4e29-97ed-7192378fe02a"
      },
      "cell_type": "markdown",
      "source": "We see that the cities have latitude and longitude information, and are ordered from west to east (according to longitude coordinate).\n\n# Show Temperature as function of time for several selected Cities"
    },
    {
      "metadata": {
        "_uuid": "d11c621313ed8e9d60b04728fd0304e865a62a3c",
        "_cell_guid": "90c966eb-38e3-422b-8ab1-327b0b825c45",
        "trusted": false
      },
      "cell_type": "code",
      "source": "#%% show several temperature plots to get a feel for the dataset\n#citiesToShow = ['San Francisco','Las Vegas','Chicago','Toronto','Houston','Jerusalem']\ncitiesToShow  = ['Portland','Dallas','Miami','Montreal','Tel Aviv District']\n\nt0 = temperatureDF.index\nt1 = pd.date_range(pd.to_datetime('1/7/2015',dayfirst=True),pd.to_datetime('1/10/2016',dayfirst=True),freq='H')\nt2 = pd.date_range(pd.to_datetime('1/7/2015',dayfirst=True),pd.to_datetime('1/9/2015' ,dayfirst=True),freq='H')\nt3 = pd.date_range(pd.to_datetime('1/7/2015',dayfirst=True),pd.to_datetime('21/7/2015',dayfirst=True),freq='H')\nt = [t0, t1, t2, t3]\n\nfig, ax = plt.subplots(nrows=4,ncols=1,figsize=(15,14))\nfor i, t in enumerate(t):\n    for k in range(len(citiesToShow)):\n        ax[i].plot(t,temperatureDF.loc[t,citiesToShow[k]])\n\nax[0].legend(citiesToShow, fontsize=16,\n              loc='upper left',bbox_to_anchor=(0.02,1.3), ncol=len(citiesToShow))\nfor i in range(len(ax)): ax[i].set_ylabel('Temperature [$^\\circ$K]', fontsize=11)\nax[3].set_xlabel('time', fontsize=14);\n",
      "execution_count": null,
      "outputs": []
    },
    {
      "metadata": {
        "_uuid": "57949a52cfcfd0be548f40cc1d84b10edec8af11",
        "_cell_guid": "9beb7700-1aa8-4e24-87d5-9b7e4bfbfffb"
      },
      "cell_type": "markdown",
      "source": "We clearly see yearly periodicity (top plot) as well as daily peridicity (bottom two plots) in all cities. We can also see that it's quite warm in Miami and Dallas, quite cool in Montreal and the amplitude between day and night in Portland is very large.\n\n# Show the Auto-Correlation function of Los Angeles Temperature Signal"
    },
    {
      "metadata": {
        "_uuid": "2e77866d506d69ffc272e16c90748380deed955c",
        "_cell_guid": "62e0f126-9e65-4f91-8cd7-2af74b1f7760",
        "trusted": false
      },
      "cell_type": "code",
      "source": "#%% show autocorr and lag plots\n\ncityToShow = 'Los Angeles'\nselectedLagPoints = [1,3,6,9,12,24,36,48,60]\nmaxLagDays = 7\n\noriginalSignal = temperatureDF[cityToShow]\n\n# set grid spec of the subplots\nplt.figure(figsize=(12,6))\ngs = gridspec.GridSpec(2, len(selectedLagPoints))\naxTopRow = plt.subplot(gs[0, :])\naxBottomRow = []\nfor i in range(len(selectedLagPoints)):\n    axBottomRow.append(plt.subplot(gs[1, i]))\n\n# plot autocorr\nallTimeLags = np.arange(1,maxLagDays*24)\nautoCorr = [originalSignal.autocorr(lag=dt) for dt in allTimeLags]\naxTopRow.plot(allTimeLags,autoCorr); \naxTopRow.set_title('Autocorrelation Plot of Temperature Signal', fontsize=18);\naxTopRow.set_xlabel('time lag [hours]'); axTopRow.set_ylabel('correlation coefficient')\nselectedAutoCorr = [originalSignal.autocorr(lag=dt) for dt in selectedLagPoints]\naxTopRow.scatter(x=selectedLagPoints, y=selectedAutoCorr, s=50, c='r')\n\n# plot scatter plot of selected points\nfor i in range(len(selectedLagPoints)):\n    lag_plot(originalSignal, lag=selectedLagPoints[i], s=0.5, alpha=0.7, ax=axBottomRow[i])    \n    if i >= 1:\n        axBottomRow[i].set_yticks([],[])\nplt.tight_layout()",
      "execution_count": null,
      "outputs": []
    },
    {
      "metadata": {
        "_uuid": "4b1d80a305bfff44636c1f96297565dc2d3bda6e",
        "_cell_guid": "3d3e9ce3-a9b9-4eca-9805-683d7540cd00"
      },
      "cell_type": "markdown",
      "source": "The top row shows the auto-correlation plot.  \nThe bottom scatter plots correspond to the red points marked on the auto-correlation plot. \n\nThe leftmost plot shows the Temperature at time t vs Temperature at time t + 1 hour scatter plot. We know that weather doesn't change that much in one hour and therefore we see extreemly high correlation between the temeratures there.  \nThis correlation gradually decreases up to 12 hour difference, that corresponds to the switch from day to night, and then contiues to oscillate with a slow decreasing trend as the days go by. \n\n# Show Auto-Correlation with various zoom ins (temporal scales)"
    },
    {
      "metadata": {
        "collapsed": true,
        "_uuid": "9be518eb43a9f55bffe7ff5578937e7b9b911484",
        "_cell_guid": "9b2c8b5a-c150-4729-a2aa-792e889e4ec4",
        "trusted": false
      },
      "cell_type": "code",
      "source": "#%% zoom in and out on the autocorr plot\nfig, ax = plt.subplots(nrows=4,ncols=1, figsize=(14,14))\n\ntimeLags = np.arange(1,25*24*30)\nautoCorr = [originalSignal.autocorr(lag=dt) for dt in timeLags]\nax[0].plot(1.0/(24*30)*timeLags, autoCorr); ax[0].set_title('Autocorrelation Plot', fontsize=20);\nax[0].set_xlabel('time lag [months]'); ax[0].set_ylabel('correlation coeff', fontsize=12);\n\ntimeLags = np.arange(1,20*24*7)\nautoCorr = [originalSignal.autocorr(lag=dt) for dt in timeLags]\nax[1].plot(1.0/(24*7)*timeLags, autoCorr);\nax[1].set_xlabel('time lag [weeks]'); ax[1].set_ylabel('correlation coeff', fontsize=12);\n\ntimeLags = np.arange(1,20*24)\nautoCorr = [originalSignal.autocorr(lag=dt) for dt in timeLags]\nax[2].plot(1.0/24*timeLags, autoCorr);\nax[2].set_xlabel('time lag [days]'); ax[2].set_ylabel('correlation coeff', fontsize=12);\n\ntimeLags = np.arange(1,3*24)\nautoCorr = [originalSignal.autocorr(lag=dt) for dt in timeLags]\nax[3].plot(timeLags, autoCorr);\nax[3].set_xlabel('time lag [hours]'); ax[3].set_ylabel('correlation coeff', fontsize=12);",
      "execution_count": null,
      "outputs": []
    },
    {
      "metadata": {
        "_uuid": "da7c73a0d3b6c720ed823c36210f8b4303c187e9",
        "_cell_guid": "f54c35be-ed6f-40c6-b0b6-4ff00f1729f7"
      },
      "cell_type": "markdown",
      "source": "### We clearly see the two periods here:\n* The yearly period on the top plot (12 month period)\n* The daily period on the two bottom plots (24 hour period)\n\nWhen we looked at the data we also saw these two periods, but these autocorr plots are much smoother as they represent aggregate data across all time points of the signal. "
    },
    {
      "metadata": {
        "_uuid": "7c6d3f437c5e1359197b5dc07a2985cfaac3c178",
        "_cell_guid": "93927cc3-82a8-413a-8590-bf0cbe2f560e"
      },
      "cell_type": "markdown",
      "source": "# Apply moving average and show the Low Pass Filtered Signal\nThe name low pass is because the resulting singal contains only low frequency changes. Applying the moving average operation (or different phrasing of the same this: filtering/convolving with a rectangular filter), is eqivalent to filtering out the high frequency changes and keeping only low frequency changes in the original signal. Hence the name \"low pass\"."
    },
    {
      "metadata": {
        "collapsed": true,
        "_uuid": "0aeca740dab753626d6e440432454afef843f47d",
        "_cell_guid": "823ff9d8-cbe6-45f7-98b3-e61f70e4a543",
        "trusted": false
      },
      "cell_type": "code",
      "source": "#%% apply rolling mean and plot the signal (low pass filter)\nwindowSize = 5*24\n\nlowPassFilteredSignal = originalSignal.rolling(windowSize, center=True).mean()\n\nt0 = temperatureDF.index\nt1 = pd.date_range(pd.to_datetime('1/7/2015',dayfirst=True),\n                   pd.to_datetime('1/10/2016',dayfirst=True),freq='H')\nt2 = pd.date_range(pd.to_datetime('1/7/2015',dayfirst=True),\n                   pd.to_datetime('1/9/2015' ,dayfirst=True),freq='H')\nt3 = pd.date_range(pd.to_datetime('1/7/2015',dayfirst=True),\n                   pd.to_datetime('21/7/2015',dayfirst=True),freq='H')\n\nfig, ax = plt.subplots(nrows=4,ncols=1,figsize=(14,12))\nax[0].plot(t0,originalSignal,c='y')\nax[0].plot(t0,lowPassFilteredSignal,c='r')\n\nax[1].plot(t1,originalSignal[t1],c='y')\nax[1].plot(t1,lowPassFilteredSignal[t1],c='r')\n\nax[2].plot(t2,originalSignal[t2],c='y')\nax[2].plot(t2,lowPassFilteredSignal[t2],c='r')\n\nax[3].plot(t3,originalSignal[t3],c='y')\nax[3].plot(t3,lowPassFilteredSignal[t3],c='r')\n\nax[0].legend(['original signal','low pass filtered'], fontsize=18,\n              loc='upper left',bbox_to_anchor=(0.02,1.4), ncol=len(citiesToShow))\nfor i in range(len(ax)): ax[i].set_ylabel('Temperature [$^\\circ$K]', fontsize=11)\nax[3].set_xlabel('time', fontsize=14);\n",
      "execution_count": null,
      "outputs": []
    },
    {
      "metadata": {
        "_uuid": "b086725e6bfd830909329e13952f29dbcc1dd135",
        "_cell_guid": "74dc3bb9-15b5-4b48-8f72-1e54231e9966"
      },
      "cell_type": "markdown",
      "source": "# Subtract the Low-Pass-Filtered Signal from the Original Signal and show the resulting High-Pass-Filtered Signal\nThe deviation from the local average is what we call the high frequency contnent of the singal. The resulting singal doesn't contain any slow changes (or different phrasing of the same thing: doesn't contain any low frequencies), since we subtracted them. This sequence of opperations (low pass filtering and subtracting the original singal from the low passed signal) is equivalent to \"high pass filtering\". i.e. keeping only the high frequency contnent and subtracting/removing/filtering out the low frequency content.  "
    },
    {
      "metadata": {
        "collapsed": true,
        "_uuid": "368d7554876421a6c2279380cf2a9fe68d8a268f",
        "_cell_guid": "6b66eab2-b391-46f2-b421-7e8f8c15eec6",
        "trusted": false
      },
      "cell_type": "code",
      "source": "#%% subtract the low pass filtered singal from the original to get high pass filtered signal\nhighPassFilteredSignal = originalSignal - lowPassFilteredSignal\n\nfig, ax = plt.subplots(nrows=4,ncols=1,figsize=(14,12))\nax[0].plot(t0,highPassFilteredSignal,c='k')\nax[1].plot(t1,highPassFilteredSignal[t1],c='k')\nax[2].plot(t2,highPassFilteredSignal[t2],c='k')\nax[3].plot(t3,highPassFilteredSignal[t3],c='k')\n\nax[0].set_title('Deflection of Temperature from local mean',fontsize=20)\nfor i in range(len(ax)): ax[i].set_ylabel('$\\Delta$ Temperature [$^\\circ$K]', fontsize=11)\nax[3].set_xlabel('time', fontsize=14);",
      "execution_count": null,
      "outputs": []
    },
    {
      "metadata": {
        "_uuid": "6f8484b05451bb652edddf8c853f1a98aea29079",
        "_cell_guid": "188ac8d3-0294-4b6c-afac-100ca118d57e"
      },
      "cell_type": "markdown",
      "source": "We see that the resulting signal is now varying around zero and the bottom plot is much more periodic. We've essentially removed the slow changing signal that the fast changing signal was riding on top of, and extracted the fast changing signal only.\n\n# Show the Auto-Correlation of the Low Pass Filtered Signal"
    },
    {
      "metadata": {
        "collapsed": true,
        "_uuid": "4b662d8249c92371c0de261e6843302ed0eb89e1",
        "_cell_guid": "5eb051dd-a184-4a77-98b0-7b7b98827ee8",
        "trusted": false
      },
      "cell_type": "code",
      "source": "#%% autocorr of low pass filtered singal\nfig, ax = plt.subplots(nrows=4,ncols=1,figsize=(14,14))\n\ntimeLags = np.arange(1,25*24*30)\nautoCorr = [lowPassFilteredSignal.autocorr(lag=dt) for dt in timeLags]\nax[0].plot(1.0/(24*30)*timeLags, autoCorr); \nax[0].set_title('Autocorrelation Plot of Low Pass Filtered Signal', fontsize=20);\nax[0].set_xlabel('time lag [months]'); ax[0].set_ylabel('correlation coeff', fontsize=12);\n\ntimeLags = np.arange(1,20*24*7)\nautoCorr = [lowPassFilteredSignal.autocorr(lag=dt) for dt in timeLags]\nax[1].plot(1.0/(24*7)*timeLags, autoCorr);\nax[1].set_xlabel('time lag [weeks]'); ax[1].set_ylabel('correlation coeff', fontsize=12);\n\ntimeLags = np.arange(1,20*24)\nautoCorr = [lowPassFilteredSignal.autocorr(lag=dt) for dt in timeLags]\nax[2].plot(1.0/24*timeLags, autoCorr);\nax[2].set_xlabel('time lag [days]'); ax[2].set_ylabel('correlation coeff', fontsize=12);\n\ntimeLags = np.arange(1,3*24)\nautoCorr = [lowPassFilteredSignal.autocorr(lag=dt) for dt in timeLags]\nax[3].plot(timeLags, autoCorr);\nax[3].set_xlabel('time lag [hours]'); ax[3].set_ylabel('correlation coeff', fontsize=12);",
      "execution_count": null,
      "outputs": []
    },
    {
      "metadata": {
        "_uuid": "3dc323e37f80120cbe712a299e7861a9c5e6101d",
        "_cell_guid": "cac97cd9-2a11-4d1c-bf93-14cbbdeae242"
      },
      "cell_type": "markdown",
      "source": "We see that the low pass signal displays now only the yearly periodicity, because the yearly periodicity is related to slow changes in the signal and we've remove the high changing signals by applying the moving average operation\n\n# Show the Auto-Correlation of the High Pass Filtered Signal"
    },
    {
      "metadata": {
        "collapsed": true,
        "_uuid": "8a4eb58dfc07f47dc92f3d777be149c7a3596208",
        "_cell_guid": "d0e2564b-1cf8-46b2-959a-ad6724b122af",
        "trusted": false
      },
      "cell_type": "code",
      "source": "#%% autocorr of high pass filtered signal\nfig, ax = plt.subplots(nrows=4,ncols=1, figsize=(14,14))\n\ntimeLags = np.arange(1,25*24*30)\nautoCorr = [highPassFilteredSignal.autocorr(lag=dt) for dt in timeLags]\nax[0].plot(1.0/(24*30)*timeLags, autoCorr); \nax[0].set_title('Autocorrelation Plot of High Pass Filtered Signal', fontsize=20);\nax[0].set_xlabel('time lag [months]'); ax[0].set_ylabel('correlation coeff', fontsize=12);\n\ntimeLags = np.arange(1,20*24*7)\nautoCorr = [highPassFilteredSignal.autocorr(lag=dt) for dt in timeLags]\nax[1].plot(1.0/(24*7)*timeLags, autoCorr);\nax[1].set_xlabel('time lag [weeks]'); ax[1].set_ylabel('correlation coeff', fontsize=12);\n\ntimeLags = np.arange(1,20*24)\nautoCorr = [highPassFilteredSignal.autocorr(lag=dt) for dt in timeLags]\nax[2].plot(1.0/24*timeLags, autoCorr);\nax[2].set_xlabel('time lag [days]'); ax[2].set_ylabel('correlation coeff', fontsize=12);\n\ntimeLags = np.arange(1,3*24)\nautoCorr = [highPassFilteredSignal.autocorr(lag=dt) for dt in timeLags]\nax[3].plot(timeLags, autoCorr);\nax[3].set_xlabel('time lag [hours]'); ax[3].set_ylabel('correlation coeff', fontsize=12);",
      "execution_count": null,
      "outputs": []
    },
    {
      "metadata": {
        "_uuid": "a5e926e4b872bac5cfba07985b2284ae166d0d26",
        "_cell_guid": "1e85b924-8163-40b5-bc47-91585b228bda"
      },
      "cell_type": "markdown",
      "source": "We see that the high pass signal displays now only the daily periodicity, because the daily periodicity is related to fast changes in the signal and we've remove the low changing signals by subtracting the moving average."
    }
  ],
  "metadata": {
    "language_info": {
      "name": "python",
      "version": "3.6.6",
      "mimetype": "text/x-python",
      "codemirror_mode": {
        "name": "ipython",
        "version": 3
      },
      "pygments_lexer": "ipython3",
      "nbconvert_exporter": "python",
      "file_extension": ".py"
    },
    "kernelspec": {
      "display_name": "Python 3",
      "language": "python",
      "name": "python3"
    }
  },
  "nbformat": 4,
  "nbformat_minor": 1
}